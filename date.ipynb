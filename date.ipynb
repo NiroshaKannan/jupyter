{
 "cells": [
  {
   "cell_type": "code",
   "execution_count": 1,
   "metadata": {
    "collapsed": true
   },
   "outputs": [],
   "source": [
    "\n",
    "import time\n",
    "import datetime\n"
   ]
  },
  {
   "cell_type": "code",
   "execution_count": 3,
   "metadata": {},
   "outputs": [
    {
     "name": "stdout",
     "output_type": "stream",
     "text": [
      "Time in seconds since the epoch: 1533208334.4857163\n"
     ]
    }
   ],
   "source": [
    "print (\"Time in seconds since the epoch: %s\" %time.time())"
   ]
  },
  {
   "cell_type": "code",
   "execution_count": 5,
   "metadata": {},
   "outputs": [
    {
     "name": "stdout",
     "output_type": "stream",
     "text": [
      "Current date and time:  2018-08-02 16:42:37.383382\n"
     ]
    }
   ],
   "source": [
    "print (\"Current date and time: \" , datetime.datetime.now())"
   ]
  },
  {
   "cell_type": "code",
   "execution_count": 7,
   "metadata": {},
   "outputs": [
    {
     "name": "stdout",
     "output_type": "stream",
     "text": [
      "Or like this:  18-08-02-16-42\n"
     ]
    }
   ],
   "source": [
    "print (\"Or like this: \" ,datetime.datetime.now().strftime(\"%y-%m-%d-%H-%M\"))"
   ]
  },
  {
   "cell_type": "code",
   "execution_count": 9,
   "metadata": {},
   "outputs": [
    {
     "name": "stdout",
     "output_type": "stream",
     "text": [
      "Current year:  2018\n"
     ]
    }
   ],
   "source": [
    "print (\"Current year: \", datetime.date.today().strftime(\"%Y\"))"
   ]
  },
  {
   "cell_type": "code",
   "execution_count": 11,
   "metadata": {},
   "outputs": [
    {
     "name": "stdout",
     "output_type": "stream",
     "text": [
      "Month of year:  August\n"
     ]
    }
   ],
   "source": [
    "print (\"Month of year: \", datetime.date.today().strftime(\"%B\"))"
   ]
  },
  {
   "cell_type": "code",
   "execution_count": 13,
   "metadata": {},
   "outputs": [
    {
     "name": "stdout",
     "output_type": "stream",
     "text": [
      "Week number of the year:  31\n"
     ]
    }
   ],
   "source": [
    "print (\"Week number of the year: \", datetime.date.today().strftime(\"%W\"))"
   ]
  },
  {
   "cell_type": "code",
   "execution_count": 15,
   "metadata": {},
   "outputs": [
    {
     "name": "stdout",
     "output_type": "stream",
     "text": [
      "Weekday of the week:  4\n"
     ]
    }
   ],
   "source": [
    "print (\"Weekday of the week: \", datetime.date.today().strftime(\"%w\"))"
   ]
  },
  {
   "cell_type": "code",
   "execution_count": 17,
   "metadata": {},
   "outputs": [
    {
     "name": "stdout",
     "output_type": "stream",
     "text": [
      "Day of year:  214\n"
     ]
    }
   ],
   "source": [
    "print (\"Day of year: \", datetime.date.today().strftime(\"%j\"))"
   ]
  },
  {
   "cell_type": "code",
   "execution_count": 19,
   "metadata": {},
   "outputs": [
    {
     "name": "stdout",
     "output_type": "stream",
     "text": [
      "Day of the month :  02\n"
     ]
    }
   ],
   "source": [
    "print (\"Day of the month : \", datetime.date.today().strftime(\"%d\"))"
   ]
  },
  {
   "cell_type": "code",
   "execution_count": 21,
   "metadata": {},
   "outputs": [
    {
     "name": "stdout",
     "output_type": "stream",
     "text": [
      "Day of week:  Thursday\n"
     ]
    }
   ],
   "source": [
    "print (\"Day of week: \", datetime.date.today().strftime(\"%A\"))"
   ]
  },
  {
   "cell_type": "code",
   "execution_count": 22,
   "metadata": {},
   "outputs": [
    {
     "name": "stdout",
     "output_type": "stream",
     "text": [
      "The prev year 2017\n"
     ]
    }
   ],
   "source": [
    "now = datetime.datetime.now()\n",
    "last_year = now.year - 1\n",
    "print(\"The prev year\", last_year)\n"
   ]
  }
 ],
 "metadata": {
  "kernelspec": {
   "display_name": "Python 3",
   "language": "python",
   "name": "python3"
  },
  "language_info": {
   "codemirror_mode": {
    "name": "ipython",
    "version": 3
   },
   "file_extension": ".py",
   "mimetype": "text/x-python",
   "name": "python",
   "nbconvert_exporter": "python",
   "pygments_lexer": "ipython3",
   "version": "3.6.3"
  }
 },
 "nbformat": 4,
 "nbformat_minor": 2
}
