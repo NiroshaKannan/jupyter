{
 "cells": [
  {
   "cell_type": "code",
   "execution_count": null,
   "metadata": {
    "collapsed": true
   },
   "outputs": [],
   "source": [
    "pip install Orange3\n",
    "\n",
    "to install the orange"
   ]
  },
  {
   "cell_type": "code",
   "execution_count": 7,
   "metadata": {},
   "outputs": [],
   "source": [
    "import Orange"
   ]
  },
  {
   "cell_type": "code",
   "execution_count": 8,
   "metadata": {},
   "outputs": [
    {
     "data": {
      "text/plain": [
       "'3.15.0'"
      ]
     },
     "execution_count": 8,
     "metadata": {},
     "output_type": "execute_result"
    }
   ],
   "source": [
    "Orange.version.version"
   ]
  },
  {
   "cell_type": "code",
   "execution_count": 10,
   "metadata": {
    "collapsed": true
   },
   "outputs": [],
   "source": [
    "data = Orange.data.Table(\"lenses\")"
   ]
  },
  {
   "cell_type": "code",
   "execution_count": 12,
   "metadata": {},
   "outputs": [
    {
     "name": "stdout",
     "output_type": "stream",
     "text": [
      "[[young, myope, no, reduced | none],\n",
      " [young, myope, no, normal | soft],\n",
      " [young, myope, yes, reduced | none],\n",
      " [young, myope, yes, normal | hard],\n",
      " [young, hypermetrope, no, reduced | none],\n",
      " [young, hypermetrope, no, normal | soft],\n",
      " [young, hypermetrope, yes, reduced | none],\n",
      " [young, hypermetrope, yes, normal | hard],\n",
      " [pre-presbyopic, myope, no, reduced | none],\n",
      " [pre-presbyopic, myope, no, normal | soft],\n",
      " [pre-presbyopic, myope, yes, reduced | none],\n",
      " [pre-presbyopic, myope, yes, normal | hard],\n",
      " [pre-presbyopic, hypermetrope, no, reduced | none],\n",
      " [pre-presbyopic, hypermetrope, no, normal | soft],\n",
      " [pre-presbyopic, hypermetrope, yes, reduced | none],\n",
      " [pre-presbyopic, hypermetrope, yes, normal | none],\n",
      " [presbyopic, myope, no, reduced | none],\n",
      " [presbyopic, myope, no, normal | none],\n",
      " [presbyopic, myope, yes, reduced | none],\n",
      " [presbyopic, myope, yes, normal | hard],\n",
      " [presbyopic, hypermetrope, no, reduced | none],\n",
      " [presbyopic, hypermetrope, no, normal | soft],\n",
      " [presbyopic, hypermetrope, yes, reduced | none],\n",
      " [presbyopic, hypermetrope, yes, normal | none]]\n"
     ]
    }
   ],
   "source": [
    "print(data)"
   ]
  },
  {
   "cell_type": "code",
   "execution_count": 13,
   "metadata": {},
   "outputs": [
    {
     "data": {
      "text/plain": [
       "(DiscreteVariable(name='age',\n",
       "                  values=['pre-presbyopic', 'presbyopic', 'young']),\n",
       " DiscreteVariable(name='prescription', values=['hypermetrope', 'myope']),\n",
       " DiscreteVariable(name='astigmatic', values=['no', 'yes']),\n",
       " DiscreteVariable(name='tear_rate', values=['normal', 'reduced']))"
      ]
     },
     "execution_count": 13,
     "metadata": {},
     "output_type": "execute_result"
    }
   ],
   "source": [
    "data.domain.attributes"
   ]
  },
  {
   "cell_type": "code",
   "execution_count": 16,
   "metadata": {},
   "outputs": [
    {
     "name": "stdout",
     "output_type": "stream",
     "text": [
      "[young, myope, no, reduced | none]\n",
      "[young, myope, no, normal | soft]\n",
      "[young, myope, yes, reduced | none]\n"
     ]
    }
   ],
   "source": [
    "for d in data[:3]:print(d)"
   ]
  },
  {
   "cell_type": "code",
   "execution_count": 18,
   "metadata": {
    "collapsed": true
   },
   "outputs": [],
   "source": [
    "data.save(\"new_data.tab\")"
   ]
  },
  {
   "cell_type": "code",
   "execution_count": 21,
   "metadata": {},
   "outputs": [
    {
     "name": "stdout",
     "output_type": "stream",
     "text": [
      "[[young, myope, no, reduced | none],\n",
      " [young, myope, no, normal | soft],\n",
      " [young, myope, yes, reduced | none],\n",
      " [young, myope, yes, normal | hard],\n",
      " [young, hypermetrope, no, reduced | none],\n",
      " [young, hypermetrope, no, normal | soft],\n",
      " [young, hypermetrope, yes, reduced | none],\n",
      " [young, hypermetrope, yes, normal | hard],\n",
      " [pre-presbyopic, myope, no, reduced | none],\n",
      " [pre-presbyopic, myope, no, normal | soft],\n",
      " [pre-presbyopic, myope, yes, reduced | none],\n",
      " [pre-presbyopic, myope, yes, normal | hard],\n",
      " [pre-presbyopic, hypermetrope, no, reduced | none],\n",
      " [pre-presbyopic, hypermetrope, no, normal | soft],\n",
      " [pre-presbyopic, hypermetrope, yes, reduced | none],\n",
      " [pre-presbyopic, hypermetrope, yes, normal | none],\n",
      " [presbyopic, myope, no, reduced | none],\n",
      " [presbyopic, myope, no, normal | none],\n",
      " [presbyopic, myope, yes, reduced | none],\n",
      " [presbyopic, myope, yes, normal | hard],\n",
      " [presbyopic, hypermetrope, no, reduced | none],\n",
      " [presbyopic, hypermetrope, no, normal | soft],\n",
      " [presbyopic, hypermetrope, yes, reduced | none],\n",
      " [presbyopic, hypermetrope, yes, normal | none]]\n"
     ]
    }
   ],
   "source": [
    "print(data)"
   ]
  },
  {
   "cell_type": "code",
   "execution_count": 22,
   "metadata": {
    "collapsed": true
   },
   "outputs": [],
   "source": [
    "data = Orange.data.Table(\"imports-85.tab\")"
   ]
  },
  {
   "cell_type": "code",
   "execution_count": 23,
   "metadata": {
    "collapsed": true
   },
   "outputs": [],
   "source": [
    "n = len(data.domain.attributes)"
   ]
  },
  {
   "cell_type": "code",
   "execution_count": 25,
   "metadata": {},
   "outputs": [
    {
     "name": "stdout",
     "output_type": "stream",
     "text": [
      "the number of attribute 25\n"
     ]
    }
   ],
   "source": [
    "print(\"the number of attribute\", n)"
   ]
  },
  {
   "cell_type": "code",
   "execution_count": 26,
   "metadata": {
    "collapsed": true
   },
   "outputs": [],
   "source": [
    "n_cont = sum(1 for a in data.domain.attributes if a.is_continuous)"
   ]
  },
  {
   "cell_type": "code",
   "execution_count": 28,
   "metadata": {},
   "outputs": [
    {
     "name": "stdout",
     "output_type": "stream",
     "text": [
      "the number of continous atribute 14\n"
     ]
    }
   ],
   "source": [
    "print('the number of continous atribute', n_cont)"
   ]
  },
  {
   "cell_type": "code",
   "execution_count": 29,
   "metadata": {
    "collapsed": true
   },
   "outputs": [],
   "source": [
    "n_disc = sum(1 for a in data.domain.attributes if a.is_discrete)"
   ]
  },
  {
   "cell_type": "code",
   "execution_count": 30,
   "metadata": {},
   "outputs": [
    {
     "name": "stdout",
     "output_type": "stream",
     "text": [
      "the number of dicrete attribute 11\n"
     ]
    }
   ],
   "source": [
    "print('the number of dicrete attribute', n_disc)"
   ]
  }
 ],
 "metadata": {
  "kernelspec": {
   "display_name": "Python 3",
   "language": "python",
   "name": "python3"
  }
 },
 "nbformat": 4,
 "nbformat_minor": 2
}
