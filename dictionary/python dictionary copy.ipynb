{
 "cells": [
  {
   "cell_type": "code",
   "execution_count": 1,
   "metadata": {
    "collapsed": true
   },
   "outputs": [],
   "source": [
    "original = {1:'one', 2:'two'}\n",
    "new = original.copy()"
   ]
  },
  {
   "cell_type": "code",
   "execution_count": 3,
   "metadata": {},
   "outputs": [
    {
     "name": "stdout",
     "output_type": "stream",
     "text": [
      "Orignal:  {1: 'one', 2: 'two'}\n",
      "New:  {1: 'one', 2: 'two'}\n"
     ]
    }
   ],
   "source": [
    "print('Orignal: ', original)\n",
    "print('New: ', new)"
   ]
  },
  {
   "cell_type": "code",
   "execution_count": 6,
   "metadata": {
    "collapsed": true
   },
   "outputs": [],
   "source": [
    "original = {1:'one', 2:'two', 3:'three'}\n",
    "new = original"
   ]
  },
  {
   "cell_type": "code",
   "execution_count": 8,
   "metadata": {},
   "outputs": [
    {
     "name": "stdout",
     "output_type": "stream",
     "text": [
      "Orignal:  {1: 'one', 2: 'two', 3: 'three'}\n",
      "New:  {1: 'one', 2: 'two', 3: 'three'}\n"
     ]
    }
   ],
   "source": [
    "print('Orignal: ', original)\n",
    "print('New: ', new)"
   ]
  },
  {
   "cell_type": "code",
   "execution_count": 10,
   "metadata": {
    "collapsed": true
   },
   "outputs": [],
   "source": [
    "#removing all the element in the list\n",
    "new.clear()"
   ]
  },
  {
   "cell_type": "code",
   "execution_count": 11,
   "metadata": {},
   "outputs": [
    {
     "name": "stdout",
     "output_type": "stream",
     "text": [
      "new:  {}\n",
      "original:  {}\n"
     ]
    }
   ],
   "source": [
    "print('new: ', new)\n",
    "print('original: ', original)"
   ]
  }
 ],
 "metadata": {
  "kernelspec": {
   "display_name": "Python 3",
   "language": "python",
   "name": "python3"
  },
  "language_info": {
   "codemirror_mode": {
    "name": "ipython",
    "version": 3
   },
   "file_extension": ".py",
   "mimetype": "text/x-python",
   "name": "python",
   "nbconvert_exporter": "python",
   "pygments_lexer": "ipython3",
   "version": "3.6.3"
  }
 },
 "nbformat": 4,
 "nbformat_minor": 2
}
