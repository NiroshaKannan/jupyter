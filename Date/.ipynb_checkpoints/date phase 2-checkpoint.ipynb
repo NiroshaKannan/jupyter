{
 "cells": [
  {
   "cell_type": "code",
   "execution_count": 1,
   "metadata": {
    "collapsed": true
   },
   "outputs": [],
   "source": [
    "import datetime"
   ]
  },
  {
   "cell_type": "code",
   "execution_count": 2,
   "metadata": {},
   "outputs": [
    {
     "name": "stdout",
     "output_type": "stream",
     "text": [
      "day1: Mon Feb 12 00:00:00 2018\n"
     ]
    }
   ],
   "source": [
    "day1 = datetime.date(2018, 2, 12)\n",
    "print ('day1:', day1.ctime())"
   ]
  },
  {
   "cell_type": "code",
   "execution_count": 4,
   "metadata": {},
   "outputs": [
    {
     "name": "stdout",
     "output_type": "stream",
     "text": [
      "day2: Thu Jul 12 00:00:00 2018\n"
     ]
    }
   ],
   "source": [
    "day2 = datetime.date(2018, 7, 12)\n",
    "print ('day2:', day2.ctime())"
   ]
  },
  {
   "cell_type": "code",
   "execution_count": 6,
   "metadata": {},
   "outputs": [
    {
     "name": "stdout",
     "output_type": "stream",
     "text": [
      "Number of Days: 150 days, 0:00:00\n"
     ]
    }
   ],
   "source": [
    "# Find the difference between the dates\n",
    "print ('Number of Days:', day2-day1)"
   ]
  },
  {
   "cell_type": "code",
   "execution_count": 7,
   "metadata": {
    "collapsed": true
   },
   "outputs": [],
   "source": [
    "# Create a delta of Four Days \n",
    "no_of_days = datetime.timedelta(days=4) "
   ]
  },
  {
   "cell_type": "code",
   "execution_count": null,
   "metadata": {
    "collapsed": true
   },
   "outputs": [],
   "source": [
    "#Today date\n",
    "date_today  = datetime.date.today() "
   ]
  }
 ],
 "metadata": {
  "kernelspec": {
   "display_name": "Python 3",
   "language": "python",
   "name": "python3"
  },
  "language_info": {
   "codemirror_mode": {
    "name": "ipython",
    "version": 3
   },
   "file_extension": ".py",
   "mimetype": "text/x-python",
   "name": "python",
   "nbconvert_exporter": "python",
   "pygments_lexer": "ipython3",
   "version": "3.6.3"
  }
 },
 "nbformat": 4,
 "nbformat_minor": 2
}
