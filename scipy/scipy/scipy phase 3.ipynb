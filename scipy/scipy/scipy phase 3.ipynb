{
 "cells": [
  {
   "cell_type": "code",
   "execution_count": 1,
   "metadata": {
    "collapsed": true
   },
   "outputs": [],
   "source": [
    "from scipy.misc import imread, imsave, imresize"
   ]
  },
  {
   "cell_type": "code",
   "execution_count": 4,
   "metadata": {},
   "outputs": [],
   "source": [
    "#read the jpg file\n",
    "img = imread('cat.jpg')"
   ]
  },
  {
   "cell_type": "code",
   "execution_count": 6,
   "metadata": {},
   "outputs": [
    {
     "name": "stdout",
     "output_type": "stream",
     "text": [
      "uint8\n"
     ]
    }
   ],
   "source": [
    "#img type\n",
    "print(img.dtype)  "
   ]
  },
  {
   "cell_type": "code",
   "execution_count": 7,
   "metadata": {},
   "outputs": [
    {
     "name": "stdout",
     "output_type": "stream",
     "text": [
      "(400, 248, 3)\n"
     ]
    }
   ],
   "source": [
    "#img size\n",
    "print(img.shape)"
   ]
  },
  {
   "cell_type": "code",
   "execution_count": 12,
   "metadata": {
    "collapsed": true
   },
   "outputs": [],
   "source": [
    "#image recolour\n",
    "img_tinted = img * [1, 0.95, 0.9]"
   ]
  },
  {
   "cell_type": "code",
   "execution_count": 10,
   "metadata": {},
   "outputs": [
    {
     "name": "stdout",
     "output_type": "stream",
     "text": [
      "[[[ 132.    121.6   105.3 ]\n",
      "  [ 155.    143.45  125.1 ]\n",
      "  [ 181.    166.25  144.9 ]\n",
      "  ..., \n",
      "  [  78.     64.6    38.7 ]\n",
      "  [  76.     61.75   38.7 ]\n",
      "  [  64.     50.35   27.9 ]]\n",
      "\n",
      " [[ 134.    123.5   106.2 ]\n",
      "  [ 152.    140.6   122.4 ]\n",
      "  [ 177.    162.45  141.3 ]\n",
      "  ..., \n",
      "  [  75.     61.75   36.  ]\n",
      "  [  72.     57.95   35.1 ]\n",
      "  [  62.     48.45   26.1 ]]\n",
      "\n",
      " [[ 138.    127.3   109.8 ]\n",
      "  [ 151.    137.75  117.9 ]\n",
      "  [ 174.    159.6   136.8 ]\n",
      "  ..., \n",
      "  [  71.     57.95   32.4 ]\n",
      "  [  68.     55.1    29.7 ]\n",
      "  [  59.     48.45   25.2 ]]\n",
      "\n",
      " ..., \n",
      " [[ 115.    137.75   67.5 ]\n",
      "  [ 107.    130.15   60.3 ]\n",
      "  [ 106.    128.25   62.1 ]\n",
      "  ..., \n",
      "  [ 113.     95.95   71.1 ]\n",
      "  [ 106.     89.3    64.8 ]\n",
      "  [ 103.     86.45   60.3 ]]\n",
      "\n",
      " [[ 107.    127.3    58.5 ]\n",
      "  [ 112.    132.05   64.8 ]\n",
      "  [ 109.    131.1    64.8 ]\n",
      "  ..., \n",
      "  [ 112.     92.15   70.2 ]\n",
      "  [ 109.     89.3    65.7 ]\n",
      "  [ 101.     84.55   60.3 ]]\n",
      "\n",
      " [[ 124.    143.45   75.6 ]\n",
      "  [ 116.    135.85   68.4 ]\n",
      "  [ 111.    133.     66.6 ]\n",
      "  ..., \n",
      "  [  91.     72.2    51.3 ]\n",
      "  [  89.     70.3    49.5 ]\n",
      "  [  86.     67.45   45.  ]]]\n"
     ]
    }
   ],
   "source": [
    "print(img_tinted)"
   ]
  },
  {
   "cell_type": "code",
   "execution_count": 11,
   "metadata": {
    "collapsed": true
   },
   "outputs": [],
   "source": [
    "imsave('cat_tinted1.jpg', img_tinted)"
   ]
  },
  {
   "cell_type": "code",
   "execution_count": 14,
   "metadata": {
    "collapsed": true
   },
   "outputs": [],
   "source": [
    "img_tint = imresize(img_tinted, (300, 300))"
   ]
  },
  {
   "cell_type": "code",
   "execution_count": 15,
   "metadata": {
    "collapsed": true
   },
   "outputs": [],
   "source": [
    "imsave('cat_current.jpg', img_tint)"
   ]
  },
  {
   "cell_type": "code",
   "execution_count": null,
   "metadata": {
    "collapsed": true
   },
   "outputs": [],
   "source": []
  }
 ],
 "metadata": {
  "kernelspec": {
   "display_name": "Python 3",
   "language": "python",
   "name": "python3"
  },
  "language_info": {
   "codemirror_mode": {
    "name": "ipython",
    "version": 3
   },
   "file_extension": ".py",
   "mimetype": "text/x-python",
   "name": "python",
   "nbconvert_exporter": "python",
   "pygments_lexer": "ipython3",
   "version": "3.6.3"
  }
 },
 "nbformat": 4,
 "nbformat_minor": 2
}
