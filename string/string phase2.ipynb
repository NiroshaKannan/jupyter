{
 "cells": [
  {
   "cell_type": "code",
   "execution_count": 2,
   "metadata": {
    "collapsed": true
   },
   "outputs": [],
   "source": [
    "\n",
    "import re\n"
   ]
  },
  {
   "cell_type": "code",
   "execution_count": 4,
   "metadata": {},
   "outputs": [
    {
     "name": "stdout",
     "output_type": "stream",
     "text": [
      "['2010']\n"
     ]
    }
   ],
   "source": [
    "word = \"2010 - present\"\n",
    "print (re.findall('\\d+', word ))\n",
    "    "
   ]
  },
  {
   "cell_type": "code",
   "execution_count": 6,
   "metadata": {},
   "outputs": [
    {
     "name": "stdout",
     "output_type": "stream",
     "text": [
      "False\n"
     ]
    }
   ],
   "source": [
    "line = \"2016 \"\n",
    "try:\n",
    "    print(\"present\" in line)\n",
    "\n",
    "except:\n",
    "    print(\"False\")\n"
   ]
  },
  {
   "cell_type": "code",
   "execution_count": 8,
   "metadata": {},
   "outputs": [
    {
     "name": "stdout",
     "output_type": "stream",
     "text": [
      "True\n"
     ]
    }
   ],
   "source": [
    "line = \"2016 - present\"\n",
    "try:\n",
    "    print(\"present\" in line)\n",
    "\n",
    "except:\n",
    "    print(\"False\")\n"
   ]
  },
  {
   "cell_type": "code",
   "execution_count": 12,
   "metadata": {},
   "outputs": [
    {
     "name": "stdout",
     "output_type": "stream",
     "text": [
      "2016\n"
     ]
    }
   ],
   "source": [
    "number_only = re.sub(\"[^0-9]\",  # Search for all non-letters\n",
    "                          \"\",          # Replace all non-letters with spaces\n",
    "                          (line))\n",
    "print(number_only)"
   ]
  },
  {
   "cell_type": "code",
   "execution_count": 15,
   "metadata": {},
   "outputs": [
    {
     "name": "stdout",
     "output_type": "stream",
     "text": [
      "20162018\n"
     ]
    }
   ],
   "source": [
    "line1 = \"2016 - 2018 present\"\n",
    "\n",
    "number_only = re.sub(\"[^0-9]\",  # Search for all non-letters\n",
    "                          \"\",          # Replace all non-letters with spaces\n",
    "                          (line1))\n",
    "print(number_only)"
   ]
  },
  {
   "cell_type": "code",
   "execution_count": 17,
   "metadata": {},
   "outputs": [
    {
     "name": "stdout",
     "output_type": "stream",
     "text": [
      "20162018\n"
     ]
    }
   ],
   "source": [
    "line1 = \"2016 - 2018 present\"\n",
    "\n",
    "number_only = re.sub(\"[^0-9]\",  # Search for all non-letters\n",
    "                          \"\",          # Replace all non-letters with spaces\n",
    "                          (line1))\n",
    "print(number_only)"
   ]
  },
  {
   "cell_type": "code",
   "execution_count": 19,
   "metadata": {},
   "outputs": [
    {
     "name": "stdout",
     "output_type": "stream",
     "text": [
      "start year 2016\n"
     ]
    }
   ],
   "source": [
    "num_final = number_only[0:4]\n",
    "\n",
    "print('start year',num_final)"
   ]
  },
  {
   "cell_type": "code",
   "execution_count": 23,
   "metadata": {},
   "outputs": [
    {
     "name": "stdout",
     "output_type": "stream",
     "text": [
      "end year 2018\n"
     ]
    }
   ],
   "source": [
    "num_final = number_only[4:8]\n",
    "\n",
    "print('end year',num_final)"
   ]
  },
  {
   "cell_type": "code",
   "execution_count": 25,
   "metadata": {},
   "outputs": [
    {
     "name": "stdout",
     "output_type": "stream",
     "text": [
      "before split:python \n",
      " flsk\n",
      "after split: python \n"
     ]
    }
   ],
   "source": [
    "elm = \"python \\n flsk\"\n",
    "s1 = (elm)\n",
    "print ('before split:'+str(s1))\n",
    "#s2 = s1.split('\\n')[0]\n",
    "print ('after split: '+str(s2))\n"
   ]
  }
 ],
 "metadata": {
  "kernelspec": {
   "display_name": "Python 3",
   "language": "python",
   "name": "python3"
  },
  "language_info": {
   "codemirror_mode": {
    "name": "ipython",
    "version": 3
   },
   "file_extension": ".py",
   "mimetype": "text/x-python",
   "name": "python",
   "nbconvert_exporter": "python",
   "pygments_lexer": "ipython3",
   "version": "3.6.3"
  }
 },
 "nbformat": 4,
 "nbformat_minor": 2
}
